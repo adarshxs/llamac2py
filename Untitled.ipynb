{
 "cells": [
  {
   "cell_type": "code",
   "execution_count": 1,
   "id": "2c45951a",
   "metadata": {},
   "outputs": [],
   "source": [
    "from llamac2py.wrapper import generate_short_story"
   ]
  },
  {
   "cell_type": "code",
   "execution_count": null,
   "id": "2272a0f9",
   "metadata": {},
   "outputs": [],
   "source": [
    "if __name__ == \"__main__\":\n",
    "    checkpoint_file = 'path/to/your/model.bin'\n",
    "    prompt_text = \"Once upon a time, in a faraway land,\"\n",
    "    short_story = generate_short_story(prompt_text, checkpoint_file)\n",
    "    print(short_story)"
   ]
  }
 ],
 "metadata": {
  "kernelspec": {
   "display_name": "Python 3 (ipykernel)",
   "language": "python",
   "name": "python3"
  },
  "language_info": {
   "codemirror_mode": {
    "name": "ipython",
    "version": 3
   },
   "file_extension": ".py",
   "mimetype": "text/x-python",
   "name": "python",
   "nbconvert_exporter": "python",
   "pygments_lexer": "ipython3",
   "version": "3.11.1"
  }
 },
 "nbformat": 4,
 "nbformat_minor": 5
}
